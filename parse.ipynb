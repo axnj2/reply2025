{
 "cells": [
  {
   "cell_type": "code",
   "execution_count": null,
   "metadata": {
    "vscode": {
     "languageId": "plaintext"
    }
   },
   "outputs": [],
   "source": [
    "INPUT_DIR = \"inputs/\"\n",
    "file_name = \"0-demo.txt\"\n",
    "\n",
    "\n",
    "with open(INPUT_DIR + file_name, \"r\") as f:\n",
    "    data = f.read()"
   ]
  }
 ],
 "metadata": {
  "language_info": {
   "name": "python"
  }
 },
 "nbformat": 4,
 "nbformat_minor": 2
}
